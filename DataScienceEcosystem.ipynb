{
 "cells": [
  {
   "cell_type": "markdown",
   "id": "8b9f4a98-a997-408b-8e1f-a5fb91f2c645",
   "metadata": {},
   "source": [
    "<H1>Data Science Tools and Ecosystem</H1>"
   ]
  },
  {
   "cell_type": "markdown",
   "id": "341002e1-dfce-4979-b449-1a72967bdf99",
   "metadata": {},
   "source": [
    "<H2>Author</H2><body>Matthew Bryan</body>"
   ]
  },
  {
   "cell_type": "markdown",
   "id": "a5c1cf5b-c0dc-41b4-8010-639141bab720",
   "metadata": {},
   "source": [
    "<p>In this notebook, Data Science Tools and Ecosystem are summarized.</p>"
   ]
  },
  {
   "cell_type": "markdown",
   "id": "06542505-837f-43b2-9d00-60d87755822e",
   "metadata": {},
   "source": [
    "<p>Some of the Key Objectives for this Course</p>\n",
    "\n",
    "<ul type=\"bullets\">\n",
    "  <li>List Popular Languages for Data Science</li>\n",
    "  <li>List Commonly Used Libraries for Data Science</li>\n",
    "  <li>Outline a few Data Science Tools</li>\n",
    "  <li>Give examples of some basic Arithmetic Expressions and Evaluate them </li>\n",
    "</ul>  "
   ]
  },
  {
   "cell_type": "markdown",
   "id": "72b6f4a5-81e3-4048-8bfe-842347a78717",
   "metadata": {},
   "source": [
    "<p>Some of the popular languages that Data Scientists use are:\n",
    "<ol type=\"1\">\n",
    "  <li>Python</li>\n",
    "  <li>R</li>\n",
    "  <li>SQL</li>\n",
    "  <li>JAVA</li>\n",
    "  <li>TensorFlow</li>\n",
    "</ol>\n",
    "</p>"
   ]
  },
  {
   "cell_type": "markdown",
   "id": "aaefe77c-8490-469f-bdff-a283f8e61a2f",
   "metadata": {},
   "source": [
    "<p>Some of the commonly used libraries used by Data Scientists include:\n",
    "<ol type=\"1\">\n",
    "  <li>NumPy</li>\n",
    "  <li>Pandas</li>\n",
    "  <li>MatPlotLib</li>\n",
    "  <li>Keras</li>\n",
    "  <li>PyTorch</li>\n",
    "</ol>\n",
    "</p>"
   ]
  },
  {
   "cell_type": "markdown",
   "id": "eff6d1ba-e8f2-45a8-85de-aa792356e45a",
   "metadata": {},
   "source": [
    "\n",
    "<table>\n",
    "  <tr>\n",
    "    <th>Data Science Tools</th>\n",
    "  </tr>\n",
    "  <tr>\n",
    "    <td>RStudio</td>\n",
    "  </tr>    \n",
    "<tr>\n",
    "    <td>Apache Spark</td>\n",
    "  </tr>        \n",
    "   <tr>\n",
    "    <td>TensorFlow</td>\n",
    "  </tr>    \n",
    "</table>"
   ]
  },
  {
   "cell_type": "markdown",
   "id": "8af615d0-84ef-43c3-8dff-38258691c206",
   "metadata": {},
   "source": [
    "<h3>Below are a few examples of evaluating arithmetic expressions in Python.</h3>"
   ]
  },
  {
   "cell_type": "code",
   "execution_count": 16,
   "id": "fad67ce5-4cfe-401d-9da5-31e4208c8a7a",
   "metadata": {},
   "outputs": [
    {
     "data": {
      "text/plain": [
       "17"
      ]
     },
     "execution_count": 16,
     "metadata": {},
     "output_type": "execute_result"
    }
   ],
   "source": [
    "# This a simple arithmetic expression to mutiply then add integers.\n",
    "\n",
    "(3*4)+5"
   ]
  },
  {
   "cell_type": "code",
   "execution_count": 20,
   "id": "df6e908d-5794-40c0-9074-a665fabf0ccd",
   "metadata": {},
   "outputs": [
    {
     "data": {
      "text/plain": [
       "3.3333333333333335"
      ]
     },
     "execution_count": 20,
     "metadata": {},
     "output_type": "execute_result"
    }
   ],
   "source": [
    "# This will convert 200 minutes to hours by diving by 60.\n",
    "# minutes / 60 == hours\n",
    "\n",
    "200 / 60"
   ]
  }
 ],
 "metadata": {
  "kernelspec": {
   "display_name": "Python [conda env:base] *",
   "language": "python",
   "name": "conda-base-py"
  },
  "language_info": {
   "codemirror_mode": {
    "name": "ipython",
    "version": 3
   },
   "file_extension": ".py",
   "mimetype": "text/x-python",
   "name": "python",
   "nbconvert_exporter": "python",
   "pygments_lexer": "ipython3",
   "version": "3.12.7"
  }
 },
 "nbformat": 4,
 "nbformat_minor": 5
}
